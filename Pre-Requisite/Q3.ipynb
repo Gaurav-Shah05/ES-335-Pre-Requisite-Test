{
 "cells": [
  {
   "cell_type": "markdown",
   "id": "555cb92d",
   "metadata": {},
   "source": [
    "\n",
    "## **ES E335 - Pre-requisite Test**\n",
    "#### Author - Gaurav Shah"
   ]
  },
  {
   "cell_type": "markdown",
   "id": "f8ea6f9f",
   "metadata": {},
   "source": [
    "**3. Finding the highest element in a list requires one pass of the array. Finding the second highest element requires 2 passes of the the array. Using this method, what is the time complexity of finding the median of the array? Can you suggest a better method? Can you implement both these methods in Python and compare against numpy.median routine in terms of time?**\n"
   ]
  },
  {
   "cell_type": "markdown",
   "id": "9d14a070",
   "metadata": {},
   "source": [
    "The time-complexity to find the median of the array using the above method would result in $\\frac{n}{2}$ passes of the array and $n$ access of the array elements in each pass. Therefore the time complexity becomes $O (N^2)$\n"
   ]
  },
  {
   "cell_type": "markdown",
   "id": "8bcbd357",
   "metadata": {},
   "source": [
    "To improve the time-complexity from $O (N^2)$, we can first sort the arrray using merge sort, which has time-complexity of $O(NlogN)$ and then directly access the median of the array with time-complexity $O(1)$. Thus, the **overall time-complexity** of our algorithm is $O(NlogN)$."
   ]
  },
  {
   "cell_type": "markdown",
   "id": "e17a2dfa",
   "metadata": {},
   "source": [
    "**implememtation of the first algorithm**"
   ]
  },
  {
   "cell_type": "code",
   "execution_count": 29,
   "id": "510f7be4",
   "metadata": {},
   "outputs": [
    {
     "data": {
      "text/plain": [
       "5"
      ]
     },
     "execution_count": 29,
     "metadata": {},
     "output_type": "execute_result"
    }
   ],
   "source": [
    "def first(a):    \n",
    "    # temporary variable \n",
    "    temp=0\n",
    "    # first loop iterates for half the length of input array\n",
    "    for i in range(len(a)//2+1):\n",
    "        temp=a[i]\n",
    "        for j in range(i,len(a)):\n",
    "            #swap the a[i] with a[j] if temp is greater than a[j]\n",
    "            if(temp>=a[j]):\n",
    "                temp=a[j]\n",
    "                a[j]=a[i]\n",
    "                a[i]=temp\n",
    "    return temp\n",
    "\n",
    "# Testing the function\n",
    "a=[2,1,3,5,6,7]\n",
    "first(a)"
   ]
  },
  {
   "cell_type": "markdown",
   "id": "d28b701c",
   "metadata": {},
   "source": [
    "**Implementation of the merge sort**"
   ]
  },
  {
   "cell_type": "code",
   "execution_count": 30,
   "id": "7997f83d",
   "metadata": {},
   "outputs": [
    {
     "data": {
      "text/plain": [
       "5"
      ]
     },
     "execution_count": 30,
     "metadata": {},
     "output_type": "execute_result"
    }
   ],
   "source": [
    "#function to merge two sorted lists\n",
    "def merge(left, right):\n",
    "    # initialize an empty list to store the merged result\n",
    "    result = []\n",
    "    # initialize two pointers to track the indices of the left and right lists\n",
    "    i = 0\n",
    "    j = 0\n",
    "    # loop until one of the lists is exhausted\n",
    "    while i < len(left) and j < len(right):\n",
    "        # append the smaller one to the result \n",
    "        if left[i] < right[j]:\n",
    "            result.append(left[i])\n",
    "            i += 1\n",
    "        else:\n",
    "            result.append(right[j])\n",
    "            j += 1\n",
    "    # append the remaining elements to the result\n",
    "    result.extend(left[i:])\n",
    "    result.extend(right[j:])\n",
    "    return result\n",
    "\n",
    "# Define a function to perform mergesort on a list\n",
    "def mergesort(lst):\n",
    "    # define the base case: if the list has zero or one element\n",
    "    if len(lst) <= 1:\n",
    "        return lst\n",
    "    # divide the list into two halves and sort them recursively\n",
    "    mid = len(lst) // 2\n",
    "    # sort the left and right halves\n",
    "    left = mergesort(lst[:mid])\n",
    "    right = mergesort(lst[mid:])\n",
    "    return merge(left, right)\n",
    "\n",
    "def mergemedian(a):\n",
    "    \n",
    "    b=mergesort(a)\n",
    "    return b[len(b)//2]\n",
    "\n",
    "# Testing the function\n",
    "a=[2,1,3,5,6,7]\n",
    "mergemedian(a)"
   ]
  },
  {
   "cell_type": "markdown",
   "id": "58c3dcf0",
   "metadata": {},
   "source": [
    "**Comparing the algorithms with np.median() routine**"
   ]
  },
  {
   "cell_type": "code",
   "execution_count": 23,
   "id": "36c8d046",
   "metadata": {},
   "outputs": [],
   "source": [
    "import numpy as np"
   ]
  },
  {
   "cell_type": "code",
   "execution_count": 35,
   "id": "997931bf",
   "metadata": {},
   "outputs": [],
   "source": [
    "#define a random array with n elements\n",
    "\n",
    "n=1000\n",
    "arr= np.random.randint(1000,size=n)"
   ]
  },
  {
   "cell_type": "code",
   "execution_count": 36,
   "id": "080eeb56",
   "metadata": {},
   "outputs": [
    {
     "name": "stdout",
     "output_type": "stream",
     "text": [
      "50.3 ms ± 2.36 ms per loop (mean ± std. dev. of 7 runs, 10 loops each)\n"
     ]
    }
   ],
   "source": [
    "#timing the first algorithm\n",
    "%timeit first(arr)"
   ]
  },
  {
   "cell_type": "code",
   "execution_count": 37,
   "id": "a4b01027",
   "metadata": {},
   "outputs": [
    {
     "name": "stdout",
     "output_type": "stream",
     "text": [
      "4.69 ms ± 79.8 µs per loop (mean ± std. dev. of 7 runs, 100 loops each)\n"
     ]
    }
   ],
   "source": [
    "#timeing the second algorithm\n",
    "%timeit mergemedian(arr)"
   ]
  },
  {
   "cell_type": "code",
   "execution_count": 38,
   "id": "1ea78df7",
   "metadata": {},
   "outputs": [
    {
     "name": "stdout",
     "output_type": "stream",
     "text": [
      "38 µs ± 1.32 µs per loop (mean ± std. dev. of 7 runs, 10,000 loops each)\n"
     ]
    }
   ],
   "source": [
    "#timing the np.median routine \n",
    "%timeit np.median(arr)"
   ]
  },
  {
   "cell_type": "markdown",
   "id": "99f2c3b8",
   "metadata": {},
   "source": [
    "**np.median() beats both the implementations!**"
   ]
  }
 ],
 "metadata": {
  "kernelspec": {
   "display_name": "Python 3 (ipykernel)",
   "language": "python",
   "name": "python3"
  },
  "language_info": {
   "codemirror_mode": {
    "name": "ipython",
    "version": 3
   },
   "file_extension": ".py",
   "mimetype": "text/x-python",
   "name": "python",
   "nbconvert_exporter": "python",
   "pygments_lexer": "ipython3",
   "version": "3.10.6"
  }
 },
 "nbformat": 4,
 "nbformat_minor": 5
}
