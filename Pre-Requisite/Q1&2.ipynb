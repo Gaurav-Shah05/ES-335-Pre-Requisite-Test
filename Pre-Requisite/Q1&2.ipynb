{
 "cells": [
  {
   "cell_type": "markdown",
   "id": "d593989f",
   "metadata": {},
   "source": [
    "\n",
    "## **ES E335 - Pre-requisite Test**\n",
    "#### Author - Gaurav Shah"
   ]
  },
  {
   "cell_type": "markdown",
   "id": "ef77a067",
   "metadata": {},
   "source": [
    "**1. How many multiplications and additions do you need to perform a matrix multiplication between a (n, k) and (k, m) matrix? Explain.**"
   ]
  },
  {
   "cell_type": "markdown",
   "id": "866b481b",
   "metadata": {},
   "source": [
    "For matrix multiplication between (n,k) and (k, m) matrix:\n",
    "\n",
    "$multiplications = n \\times m \\times k$\n",
    "\n",
    "$additions = n \\times m\\times (k-1)$\n",
    "\n",
    "On multiplying (n,k) and (k,m) matrix, resultant matrix dimensions are (n,m). For obtaining an element for the (n,m) matrix, say in row i and column j, we have to mulitply and add elements from $i^{th}$ row in (n,k) matrix with elements from $j^{th}$  which consists of **k** multiplications and **k-1** additons. Thus, to obtain all the elements of the (n,m) matrix, the total number of additions and multiplications will be as mentioned above. "
   ]
  },
  {
   "cell_type": "markdown",
   "id": "b72631c6",
   "metadata": {},
   "source": [
    "**2.Write Python code to multiply the above two matrices. Solve using list of lists and then use numpy. Compare the timing of both solutions. Which one is faster? Why?**"
   ]
  },
  {
   "cell_type": "code",
   "execution_count": 3,
   "id": "6f6e70b3",
   "metadata": {},
   "outputs": [],
   "source": [
    "import numpy as np"
   ]
  },
  {
   "cell_type": "code",
   "execution_count": 4,
   "id": "85916d9f",
   "metadata": {},
   "outputs": [],
   "source": [
    "#Let n = 2, m= 3, k = 2 \n",
    "#Define the function for matrix multiplication \n",
    "def matrixmul(a,b):\n",
    "    \n",
    "    n= len(a)\n",
    "    m= len(b[0])\n",
    "    k= len(b)\n",
    "    \n",
    "    #Initialise the resultant matrix with zeroes\n",
    "    res = np.zeros((n,m))\n",
    "    \n",
    "    for i in range(n):\n",
    "        for j in range(m):\n",
    "            for l in range(k):\n",
    "                res[i][j] += (a[i][l]*b[l][j])\n",
    "                \n",
    "    return res"
   ]
  },
  {
   "cell_type": "code",
   "execution_count": 5,
   "id": "8fd052ac",
   "metadata": {},
   "outputs": [
    {
     "name": "stdout",
     "output_type": "stream",
     "text": [
      "[[3. 5. 4.]\n",
      " [4. 7. 7.]]\n"
     ]
    }
   ],
   "source": [
    "#Define the values a and b to test the defined function\n",
    "a=[[1,1],[1,2]]\n",
    "b=[[2,3,1],[1,2,3]]\n",
    "\n",
    "c= matrixmul(a,b)\n",
    "\n",
    "print(c) "
   ]
  },
  {
   "cell_type": "code",
   "execution_count": 6,
   "id": "e5e7f85e",
   "metadata": {},
   "outputs": [
    {
     "name": "stdout",
     "output_type": "stream",
     "text": [
      "[[3. 5. 4.]\n",
      " [4. 7. 7.]]\n"
     ]
    }
   ],
   "source": [
    "#Matrix Multiplication using numpy\n",
    "res_np = np.dot(a,b)\n",
    "print(c)"
   ]
  },
  {
   "cell_type": "markdown",
   "id": "ffffc094",
   "metadata": {},
   "source": [
    "Now, we can time both approaches using larger values of n,m and randomly assigning values to elements of a,b matrices as with smaller values of n,m and k, the %timeit command won't be able to time the code snippet properly."
   ]
  },
  {
   "cell_type": "code",
   "execution_count": 7,
   "id": "6450498b",
   "metadata": {},
   "outputs": [],
   "source": [
    "n=15\n",
    "m=10\n",
    "k=20\n",
    "\n",
    "#Matrix a with dimension (15,20)\n",
    "a= np.random.randint(20, size=(n,k))\n",
    "#Matrix b with dimensions (20,10)\n",
    "b= np.random.randint(20, size=(k,m))"
   ]
  },
  {
   "cell_type": "code",
   "execution_count": 8,
   "id": "fbdf36bc",
   "metadata": {},
   "outputs": [
    {
     "name": "stdout",
     "output_type": "stream",
     "text": [
      "1.64 ms ± 112 µs per loop (mean ± std. dev. of 7 runs, 1,000 loops each)\n"
     ]
    }
   ],
   "source": [
    "#Timing the matrixmul() funtion\n",
    "%timeit c=matrixmul(a,b)"
   ]
  },
  {
   "cell_type": "code",
   "execution_count": 10,
   "id": "761e4232",
   "metadata": {},
   "outputs": [
    {
     "name": "stdout",
     "output_type": "stream",
     "text": [
      "2.3 µs ± 92.5 ns per loop (mean ± std. dev. of 7 runs, 100,000 loops each)\n"
     ]
    }
   ],
   "source": [
    "#Timinig the matrix multiplication using numpy\n",
    "%timeit c=np.dot(a,b)"
   ]
  },
  {
   "cell_type": "markdown",
   "id": "13b5b991",
   "metadata": {},
   "source": [
    "- List method is much slower than numpy because it's not Optimized. NumPy matrix multiplication uses optimised C code and also use vectorization resulting in faster implementation. "
   ]
  }
 ],
 "metadata": {
  "kernelspec": {
   "display_name": "Python 3 (ipykernel)",
   "language": "python",
   "name": "python3"
  },
  "language_info": {
   "codemirror_mode": {
    "name": "ipython",
    "version": 3
   },
   "file_extension": ".py",
   "mimetype": "text/x-python",
   "name": "python",
   "nbconvert_exporter": "python",
   "pygments_lexer": "ipython3",
   "version": "3.10.6"
  }
 },
 "nbformat": 4,
 "nbformat_minor": 5
}
