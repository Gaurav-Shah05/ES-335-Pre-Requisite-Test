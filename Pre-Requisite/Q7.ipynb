{
 "cells": [
  {
   "cell_type": "markdown",
   "id": "fdc3d24a",
   "metadata": {},
   "source": [
    "\n",
    "## **ES E335 - Pre-requisite Test**\n",
    "#### Author - Gaurav Shah"
   ]
  },
  {
   "cell_type": "markdown",
   "id": "2d3c35a6",
   "metadata": {},
   "source": [
    "**7. Create a Python nested dictionary to represent hierarchical information. We want to store record of students and their marks. Something like:**\n",
    "\n",
    "1. 2022\n",
    "    1. Branch 1\n",
    "        1. Roll Number: 1, Name: N, Marks:\n",
    "                 1. Maths: 100, English: 70 …\n",
    "    2. Branch 2\n",
    "2. 2023\n",
    "    1. Branch 1\n",
    "    2. Branch 2\n",
    "3. 2024\n",
    "    1. Branch 1\n",
    "    2. Branch 2\n",
    "4. 2025\n",
    "    1. Branch 1\n",
    "    2. Branch 2"
   ]
  },
  {
   "cell_type": "code",
   "execution_count": 6,
   "id": "4a993909",
   "metadata": {},
   "outputs": [],
   "source": [
    "# Create an empty dictionary\n",
    "student_record = {}\n",
    "\n",
    "# Add the year 2022 as a key and assign an empty dictionary as it's value to store it's branches\n",
    "student_record[2022] = {}\n",
    "\n",
    "# Add the branch 1 as a key and another dictionary as its value\n",
    "student_record[2022][\"Branch 1\"] = {}\n",
    "\n",
    "# Add the roll number, name and marks as keys and their values under the branch 1\n",
    "student_record[2022][\"Branch 1\"][1] = {\"Name\": \"N\", \"Marks\": {\"Maths\": 100, \"English\": 70}}\n",
    "\n",
    "# Similarly, add the branch 2\n",
    "student_record[2022][\"Branch 2\"] = {}\n",
    "\n",
    "# Repeat the same process for the other years and branches\n",
    "student_record[2023] = {}\n",
    "student_record[2023][\"Branch 1\"] = {}\n",
    "student_record[2023][\"Branch 2\"] = {}\n",
    "\n",
    "student_record[2024] = {}\n",
    "student_record[2024][\"Branch 1\"] = {}\n",
    "student_record[2024][\"Branch 2\"] = {}\n",
    "\n",
    "student_record[2025] = {}\n",
    "student_record[2025][\"Branch 1\"] = {}\n",
    "student_record[2025][\"Branch 2\"] = {}"
   ]
  },
  {
   "cell_type": "code",
   "execution_count": 7,
   "id": "9288168a",
   "metadata": {},
   "outputs": [
    {
     "name": "stdout",
     "output_type": "stream",
     "text": [
      "{2022: {'Branch 1': {1: {'Name': 'N', 'Marks': {'Maths': 100, 'English': 70}}}, 'Branch 2': {}}, 2023: {'Branch 1': {}, 'Branch 2': {}}, 2024: {'Branch 1': {}, 'Branch 2': {}}, 2025: {'Branch 1': {}, 'Branch 2': {}}}\n"
     ]
    }
   ],
   "source": [
    "print(student_record)"
   ]
  },
  {
   "cell_type": "markdown",
   "id": "3a07eb2b",
   "metadata": {},
   "source": [
    "Values can be accessed easily by keys."
   ]
  },
  {
   "cell_type": "code",
   "execution_count": 8,
   "id": "ae474bcd",
   "metadata": {},
   "outputs": [
    {
     "data": {
      "text/plain": [
       "{}"
      ]
     },
     "execution_count": 8,
     "metadata": {},
     "output_type": "execute_result"
    }
   ],
   "source": [
    "student_record[2023][\"Branch 1\"]"
   ]
  },
  {
   "cell_type": "code",
   "execution_count": 10,
   "id": "b83f280d",
   "metadata": {},
   "outputs": [
    {
     "data": {
      "text/plain": [
       "{1: {'Name': 'N', 'Marks': {'Maths': 100, 'English': 70}}}"
      ]
     },
     "execution_count": 10,
     "metadata": {},
     "output_type": "execute_result"
    }
   ],
   "source": [
    "student_record[2022][\"Branch 1\"]"
   ]
  }
 ],
 "metadata": {
  "kernelspec": {
   "display_name": "Python 3 (ipykernel)",
   "language": "python",
   "name": "python3"
  },
  "language_info": {
   "codemirror_mode": {
    "name": "ipython",
    "version": 3
   },
   "file_extension": ".py",
   "mimetype": "text/x-python",
   "name": "python",
   "nbconvert_exporter": "python",
   "pygments_lexer": "ipython3",
   "version": "3.10.6"
  }
 },
 "nbformat": 4,
 "nbformat_minor": 5
}
