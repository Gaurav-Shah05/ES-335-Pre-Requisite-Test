{
 "cells": [
  {
   "cell_type": "markdown",
   "id": "feaa8fb4",
   "metadata": {},
   "source": [
    "\n",
    "## **ES E335 - Pre-requisite Test**\n",
    "#### Author - Gaurav Shah"
   ]
  },
  {
   "cell_type": "markdown",
   "id": "62802fa2",
   "metadata": {},
   "source": [
    "**13. Write a function to compute the argmin of a numpy array. The function should take a numpy array as input and return the index of the minimum element. You can use the np.argmin function to verify your solution.**"
   ]
  },
  {
   "cell_type": "code",
   "execution_count": 2,
   "id": "9709c728",
   "metadata": {},
   "outputs": [],
   "source": [
    "import numpy as np"
   ]
  },
  {
   "cell_type": "code",
   "execution_count": 12,
   "id": "26b351fb",
   "metadata": {},
   "outputs": [
    {
     "name": "stdout",
     "output_type": "stream",
     "text": [
      "Array: [67 18 24 47 87 36 88 36 16 37]\n",
      "Index returned from argmin function: 8\n",
      "Index returned from np.argmin function: 8\n"
     ]
    }
   ],
   "source": [
    "def argmin(a):    \n",
    "    # temporary argmin and index \n",
    "    index = 0\n",
    "    min = a[0]\n",
    "    # loop iterates over the array to find the min and min index\n",
    "    for i in range(len(a)):\n",
    "         if(a[i]<=min):\n",
    "                min = a[i]\n",
    "                index = i\n",
    "    return np.array([min, index])\n",
    "\n",
    "# Testing the function\n",
    "a=np.random.randint(100,size=10)\n",
    "print(\"Array:\",a)\n",
    "\n",
    "b=argmin(a)\n",
    "\n",
    "print(\"Index returned from argmin function:\", b[1])\n",
    "print(\"Index returned from np.argmin function:\", np.argmin(a))"
   ]
  }
 ],
 "metadata": {
  "kernelspec": {
   "display_name": "Python 3 (ipykernel)",
   "language": "python",
   "name": "python3"
  },
  "language_info": {
   "codemirror_mode": {
    "name": "ipython",
    "version": 3
   },
   "file_extension": ".py",
   "mimetype": "text/x-python",
   "name": "python",
   "nbconvert_exporter": "python",
   "pygments_lexer": "ipython3",
   "version": "3.10.6"
  }
 },
 "nbformat": 4,
 "nbformat_minor": 5
}
