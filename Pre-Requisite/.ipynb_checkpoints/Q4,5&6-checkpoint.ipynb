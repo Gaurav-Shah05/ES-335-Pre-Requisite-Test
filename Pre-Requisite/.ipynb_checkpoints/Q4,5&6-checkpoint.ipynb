{
 "cells": [
  {
   "cell_type": "markdown",
   "id": "73f595e9",
   "metadata": {},
   "source": [
    "\n",
    "## **ES E335 - Pre-requisite Test**\n",
    "#### Author - Gaurav Shah"
   ]
  },
  {
   "cell_type": "markdown",
   "id": "477a4d1c",
   "metadata": {},
   "source": [
    "**4. What is the gradient of the following function with respect to x and y?**\n",
    "\n",
    "$$f(x,y)=x^2y + y^3sinx$$\n"
   ]
  },
  {
   "cell_type": "markdown",
   "id": "718897ed",
   "metadata": {},
   "source": [
    "To find the gradient of the function $f(x,y)$, we first need to find the partial derivatives w.r.t $x$ and $y$"
   ]
  },
  {
   "cell_type": "markdown",
   "id": "94daa146",
   "metadata": {},
   "source": [
    "$$\\frac{\\partial{f(x,y)}}{\\partial{x}}=2xy + y^3cosx$$"
   ]
  },
  {
   "cell_type": "markdown",
   "id": "37946883",
   "metadata": {},
   "source": [
    "$$\\frac{\\partial{f(x,y)}}{\\partial{x}}=x^2 + 3y^2sinx$$"
   ]
  },
  {
   "cell_type": "markdown",
   "id": "e6cc5234",
   "metadata": {},
   "source": [
    "Therefore, the gradient can be written as follows:\n",
    "$$\\nabla f= [(2xy + y^3cosx)  , (x^2 + 3y^2sinx)] $$ "
   ]
  },
  {
   "cell_type": "markdown",
   "id": "58c4bf70",
   "metadata": {},
   "source": [
    "**5. Use JAX to confirm the gradient evaluated by your method matches the analytical solution corresponding to a few random values of x and y**\n",
    "\n"
   ]
  },
  {
   "cell_type": "code",
   "execution_count": 34,
   "id": "8f35556f",
   "metadata": {},
   "outputs": [],
   "source": [
    "import jax\n",
    "import jax.numpy as jnp"
   ]
  },
  {
   "cell_type": "code",
   "execution_count": 35,
   "id": "cda2750b",
   "metadata": {},
   "outputs": [],
   "source": [
    "#first define the function f (x,y) in python\n",
    "\n",
    "def func(a):  \n",
    "    x=a[0]\n",
    "    y=a[1]\n",
    "    return (x**2)*y + (y**3)*jnp.sin(x)"
   ]
  },
  {
   "cell_type": "code",
   "execution_count": 36,
   "id": "cf3478e4",
   "metadata": {},
   "outputs": [],
   "source": [
    "#define the gradient of the function that we found out before\n",
    "\n",
    "def funcgrad(a):\n",
    "    x=a[0]\n",
    "    y=a[1]\n",
    "    return jnp.array([2*x*y + (y**3)*jnp.cos(x),x**2 + 3*(y**2)*jnp.sin(x)])"
   ]
  },
  {
   "cell_type": "code",
   "execution_count": 41,
   "id": "991880a3",
   "metadata": {},
   "outputs": [
    {
     "name": "stdout",
     "output_type": "stream",
     "text": [
      "[x,y] = [1.5707964 1.       ]\n",
      "Gradient value using jax: [3.1415927 5.4674015]\n",
      "Gradient valuse using the function above:  [3.1415927 5.4674015]\n",
      "[x,y] = [0. 5.]\n",
      "Gradient value using jax: [125.   0.]\n",
      "Gradient valuse using the function above:  [125.   0.]\n"
     ]
    }
   ],
   "source": [
    "#gradient using grad operator from jax\n",
    "funcgrad_jax= jax.grad(func)\n",
    "\n",
    "inp = jnp.array([[jnp.pi/2,1],[0,5]])\n",
    "\n",
    "for i in inp:\n",
    "    print(\"[x,y] =\", i, end=\"\\n\" )\n",
    "    print(\"Gradient value using jax:\",funcgrad_jax(i))\n",
    "    print(\"Gradient valuse using the function above: \",funcgrad(i))"
   ]
  },
  {
   "cell_type": "markdown",
   "id": "b5f723c0",
   "metadata": {},
   "source": [
    "6. **Use sympy to confirm that you obtain the same gradient analytically.**"
   ]
  },
  {
   "cell_type": "code",
   "execution_count": 46,
   "id": "53984975",
   "metadata": {},
   "outputs": [],
   "source": [
    "import sympy as sp"
   ]
  },
  {
   "cell_type": "code",
   "execution_count": 49,
   "id": "31c594b4",
   "metadata": {},
   "outputs": [
    {
     "name": "stdout",
     "output_type": "stream",
     "text": [
      "[2*x*y + y**3*cos(x), x**2 + 3*y**2*sin(x)]\n"
     ]
    }
   ],
   "source": [
    "x,y = sp.symbols('x y')\n",
    "\n",
    "f = (x**2)*y + (y**3)*sp.sin(x)\n",
    "#usinf diff to find out partial derivatives of the function w.r.t x & y\n",
    "g = [f.diff(x), f.diff(y)]\n",
    "\n",
    "print(g)"
   ]
  },
  {
   "cell_type": "markdown",
   "id": "cce9a942",
   "metadata": {},
   "source": [
    "The expression of the gradient found by sympy matches the one found out in Q.4"
   ]
  }
 ],
 "metadata": {
  "kernelspec": {
   "display_name": "Python 3 (ipykernel)",
   "language": "python",
   "name": "python3"
  },
  "language_info": {
   "codemirror_mode": {
    "name": "ipython",
    "version": 3
   },
   "file_extension": ".py",
   "mimetype": "text/x-python",
   "name": "python",
   "nbconvert_exporter": "python",
   "pygments_lexer": "ipython3",
   "version": "3.10.6"
  }
 },
 "nbformat": 4,
 "nbformat_minor": 5
}
